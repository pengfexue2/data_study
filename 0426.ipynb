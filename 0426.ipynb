{
 "cells": [
  {
   "cell_type": "markdown",
   "metadata": {},
   "source": [
    "## 1. 创建 Series "
   ]
  },
  {
   "cell_type": "code",
   "execution_count": 27,
   "metadata": {},
   "outputs": [
    {
     "name": "stdout",
     "output_type": "stream",
     "text": [
      "a    6\n",
      "b    8\n",
      "c    7\n",
      "d    4\n",
      "e    3\n",
      "dtype: int64\n"
     ]
    }
   ],
   "source": [
    "import numpy as np\n",
    "import pandas as pd\n",
    "\n",
    "# 创建一维随机数组\n",
    "data1 = np.random.randint(3,10,5)\n",
    "#print(data1)\n",
    "s = pd.Series(data1,index=list(\"abcde\"))\n",
    "print(s)\n"
   ]
  },
  {
   "cell_type": "markdown",
   "metadata": {},
   "source": [
    "## 2.位置索引和标签索引提取后三个数"
   ]
  },
  {
   "cell_type": "code",
   "execution_count": 28,
   "metadata": {},
   "outputs": [
    {
     "name": "stdout",
     "output_type": "stream",
     "text": [
      "c    7\n",
      "d    4\n",
      "e    3\n",
      "dtype: int64\n",
      "c    7\n",
      "d    4\n",
      "e    3\n",
      "dtype: int64\n"
     ]
    }
   ],
   "source": [
    "print(s[-3:])\n",
    "print(s[\"c\":\"e\"])"
   ]
  },
  {
   "cell_type": "markdown",
   "metadata": {},
   "source": [
    "## 3. 创建 DataFrame "
   ]
  },
  {
   "cell_type": "code",
   "execution_count": 80,
   "metadata": {},
   "outputs": [
    {
     "name": "stdout",
     "output_type": "stream",
     "text": [
      "   year  price\n",
      "0  2017     10\n",
      "1  2018     20\n",
      "2  2019     30\n",
      "   year  price\n",
      "0  2017     10\n",
      "1  2018     20\n",
      "2  2019     30\n",
      "   year  price\n",
      "0  2017     10\n",
      "1  2018     20\n",
      "2  2019     30\n"
     ]
    }
   ],
   "source": [
    "dic1 = {\"year\":{0:2017,1:2018,2:2019},\"price\":{0:10,1:20,2:30}}\n",
    "df1 = pd.DataFrame(dic1)\n",
    "print(df1)\n",
    "\n",
    "dic2 = [{\"year\":2017,\"price\":10},{\"year\":2018,\"price\":20},{\"year\":2019,\"price\":30}]\n",
    "df2 = pd.DataFrame(dic2)\n",
    "print(df2)\n",
    "\n",
    "dic3 = {'year':[2017,2018,2019],'price':[10,20,30]}\n",
    "df3 = pd.DataFrame(dic3)\n",
    "print(df3)"
   ]
  },
  {
   "cell_type": "markdown",
   "metadata": {},
   "source": [
    "## 4.np创建 DataFrame"
   ]
  },
  {
   "cell_type": "code",
   "execution_count": 40,
   "metadata": {},
   "outputs": [
    {
     "name": "stdout",
     "output_type": "stream",
     "text": [
      "   one  two  three\n",
      "a   14   11     13\n",
      "b    9   14     11\n",
      "c    9    7     12\n",
      "d    7   13      5\n",
      "e    7   12      9\n"
     ]
    }
   ],
   "source": [
    "data4 = np.random.randint(5,15,(5,3))\n",
    "df_test = pd.DataFrame(data4,index=list(\"abcde\"),columns=[\"one\",\"two\",\"three\"])\n",
    "print(df_test)"
   ]
  },
  {
   "cell_type": "markdown",
   "metadata": {},
   "source": [
    "## 5. loc 索引及替换"
   ]
  },
  {
   "cell_type": "code",
   "execution_count": 83,
   "metadata": {},
   "outputs": [
    {
     "name": "stdout",
     "output_type": "stream",
     "text": [
      "nan\n",
      "    one  two  three  four\n",
      "a   NaN -100     10  test\n",
      "c   5.0   12    -99  test\n",
      "e   9.0  -99     11  test\n",
      "f  12.0   13     13  test\n",
      "h   8.0    5      5  test\n",
      "nan\n",
      "    one    two  three  four\n",
      "a   NaN -100.0   10.0  test\n",
      "b   NaN    NaN    NaN   NaN\n",
      "c   5.0   12.0  -99.0  test\n",
      "d   NaN    NaN    NaN   NaN\n",
      "e   9.0  -99.0   11.0  test\n",
      "f  12.0   13.0   13.0  test\n",
      "g   NaN    NaN    NaN   NaN\n",
      "h   8.0    5.0    5.0  test\n"
     ]
    }
   ],
   "source": [
    "data4 = np.random.randint(5,15,(5,3))\n",
    "df_test = pd.DataFrame(data4,index=list(\"acefh\"),columns=[\"one\",\"two\",\"three\"])\n",
    "\n",
    "# 1. a行one列处替换为空\n",
    "df_test.loc[\"a\",\"one\"]=np.nan\n",
    "df_test.iloc[2,1]=-99\n",
    "df_test.at[\"c\",\"three\"]=-99\n",
    "df_test.loc[\"a\",\"two\"]=-100\n",
    "df_test[\"four\"]=\"test\"\n",
    "\n",
    "print(df_test.loc[\"a\",\"one\"])\n",
    "print(df_test)\n",
    "print(df_test.iloc[0,0])\n",
    "\n",
    "df_change = df_test.reindex(list(\"abcdefgh\"))\n",
    "print(df_change)"
   ]
  },
  {
   "cell_type": "markdown",
   "metadata": {},
   "source": [
    "## 6.删除存在缺失值的所有行 "
   ]
  },
  {
   "cell_type": "code",
   "execution_count": 84,
   "metadata": {},
   "outputs": [
    {
     "name": "stdout",
     "output_type": "stream",
     "text": [
      "     one    two  three   four\n",
      "a   True  False  False  False\n",
      "b   True   True   True   True\n",
      "c  False  False  False  False\n",
      "d   True   True   True   True\n",
      "e  False  False  False  False\n",
      "f  False  False  False  False\n",
      "g   True   True   True   True\n",
      "h  False  False  False  False\n",
      "one      4\n",
      "two      3\n",
      "three    3\n",
      "four     3\n",
      "dtype: int64\n",
      "    one   two  three  four\n",
      "c   5.0  12.0  -99.0  test\n",
      "e   9.0 -99.0   11.0  test\n",
      "f  12.0  13.0   13.0  test\n",
      "h   8.0   5.0    5.0  test\n",
      "Empty DataFrame\n",
      "Columns: []\n",
      "Index: [a, b, c, d, e, f, g, h]\n",
      "    one    two  three  four\n",
      "a   NaN -100.0   10.0  test\n",
      "c   5.0   12.0  -99.0  test\n",
      "e   9.0  -99.0   11.0  test\n",
      "f  12.0   13.0   13.0  test\n",
      "h   8.0    5.0    5.0  test\n",
      "###########################\n",
      "    one   two  three  four\n",
      "c   5.0  12.0  -99.0  test\n",
      "e   9.0 -99.0   11.0  test\n",
      "f  12.0  13.0   13.0  test\n",
      "h   8.0   5.0    5.0  test\n"
     ]
    }
   ],
   "source": [
    "# 熟悉\n",
    "df_change2 = df_change\n",
    "df_change2.dropna(axis=1)\n",
    "print(df_change2.isnull())\n",
    "print(df_change2.isnull().sum())\n",
    "print(df_change2.dropna())\n",
    "print(df_change2.dropna(axis=1))\n",
    "print(df_change2.dropna(how=\"all\"))\n",
    "print(\"###########################\")\n",
    "print(df_change2.dropna())"
   ]
  },
  {
   "cell_type": "markdown",
   "metadata": {},
   "source": [
    "## 7.删除所有值都为 NaN 的行"
   ]
  },
  {
   "cell_type": "code",
   "execution_count": 85,
   "metadata": {},
   "outputs": [
    {
     "name": "stdout",
     "output_type": "stream",
     "text": [
      "    one    two  three  four\n",
      "a   NaN -100.0   10.0  test\n",
      "c   5.0   12.0  -99.0  test\n",
      "e   9.0  -99.0   11.0  test\n",
      "f  12.0   13.0   13.0  test\n",
      "h   8.0    5.0    5.0  test\n"
     ]
    }
   ],
   "source": [
    "print(df_change2.dropna(how=\"all\"))"
   ]
  },
  {
   "cell_type": "markdown",
   "metadata": {},
   "source": [
    "## 8. 填充缺失值 "
   ]
  },
  {
   "cell_type": "code",
   "execution_count": 86,
   "metadata": {},
   "outputs": [
    {
     "name": "stdout",
     "output_type": "stream",
     "text": [
      "    one    two  three  four\n",
      "a   0.0 -100.0   10.0  test\n",
      "b   0.0    0.0    0.0     0\n",
      "c   5.0   12.0  -99.0  test\n",
      "d   0.0    0.0    0.0     0\n",
      "e   9.0  -99.0   11.0  test\n",
      "f  12.0   13.0   13.0  test\n",
      "g   0.0    0.0    0.0     0\n",
      "h   8.0    5.0    5.0  test\n",
      "    one    two  three  four\n",
      "a   NaN -100.0   10.0  test\n",
      "b   NaN -100.0   10.0  test\n",
      "c   5.0   12.0  -99.0  test\n",
      "d   5.0   12.0  -99.0  test\n",
      "e   9.0  -99.0   11.0  test\n",
      "f  12.0   13.0   13.0  test\n",
      "g  12.0   13.0   13.0  test\n",
      "h   8.0    5.0    5.0  test\n",
      "    one    two  three  four\n",
      "a   8.5 -100.0   10.0  test\n",
      "b   8.5  -33.8  -12.0   NaN\n",
      "c   5.0   12.0  -99.0  test\n",
      "d   8.5  -33.8  -12.0   NaN\n",
      "e   9.0  -99.0   11.0  test\n",
      "f  12.0   13.0   13.0  test\n",
      "g   8.5  -33.8  -12.0   NaN\n",
      "h   8.0    5.0    5.0  test\n",
      "    one    two  three  four\n",
      "a   NaN -100.0   10.0  test\n",
      "b   NaN    NaN    NaN   NaN\n",
      "c   5.0   12.0  -99.0  test\n",
      "d   NaN    NaN    NaN   NaN\n",
      "e   9.0  -99.0   11.0  test\n",
      "f  12.0   13.0   13.0  test\n",
      "g   NaN    NaN    NaN   NaN\n",
      "h   8.0    5.0    5.0  test\n",
      "######################################\n",
      "    one    two  three  four\n",
      "a   0.0 -100.0   10.0  test\n",
      "b   0.0    0.0    0.0     0\n",
      "c   5.0   12.0  -99.0  test\n",
      "d   0.0    0.0    0.0     0\n",
      "e   9.0  -99.0   11.0  test\n",
      "f  12.0   13.0   13.0  test\n",
      "g   0.0    0.0    0.0     0\n",
      "h   8.0    5.0    5.0  test\n"
     ]
    }
   ],
   "source": [
    "# 熟悉\n",
    "print(df_change2.fillna(0))\n",
    "print(df_change2.fillna(method=\"pad\"))\n",
    "print(df_change2.fillna(df_change2.mean()))\n",
    "print(df_change2)\n",
    "print(\"######################################\")\n",
    "print(df_change2.fillna(0))"
   ]
  },
  {
   "cell_type": "markdown",
   "metadata": {},
   "source": [
    "## 9. 去除重复行 "
   ]
  },
  {
   "cell_type": "code",
   "execution_count": 87,
   "metadata": {},
   "outputs": [
    {
     "name": "stdout",
     "output_type": "stream",
     "text": [
      "    one    two  three  four\n",
      "a   NaN -100.0   10.0  test\n",
      "b   NaN    NaN    NaN   NaN\n",
      "c   5.0   12.0  -99.0  test\n",
      "e   9.0  -99.0   11.0  test\n",
      "f  12.0   13.0   13.0  test\n",
      "h   8.0    5.0    5.0  test\n"
     ]
    }
   ],
   "source": [
    "print(df_change2.drop_duplicates())"
   ]
  },
  {
   "cell_type": "code",
   "execution_count": 89,
   "metadata": {},
   "outputs": [
    {
     "data": {
      "text/html": [
       "<div>\n",
       "<style scoped>\n",
       "    .dataframe tbody tr th:only-of-type {\n",
       "        vertical-align: middle;\n",
       "    }\n",
       "\n",
       "    .dataframe tbody tr th {\n",
       "        vertical-align: top;\n",
       "    }\n",
       "\n",
       "    .dataframe thead th {\n",
       "        text-align: right;\n",
       "    }\n",
       "</style>\n",
       "<table border=\"1\" class=\"dataframe\">\n",
       "  <thead>\n",
       "    <tr style=\"text-align: right;\">\n",
       "      <th></th>\n",
       "      <th>one</th>\n",
       "      <th>two</th>\n",
       "      <th>three</th>\n",
       "      <th>four</th>\n",
       "    </tr>\n",
       "  </thead>\n",
       "  <tbody>\n",
       "    <tr>\n",
       "      <td>a</td>\n",
       "      <td>NaN</td>\n",
       "      <td>-100.0</td>\n",
       "      <td>10.0</td>\n",
       "      <td>test</td>\n",
       "    </tr>\n",
       "    <tr>\n",
       "      <td>b</td>\n",
       "      <td>NaN</td>\n",
       "      <td>NaN</td>\n",
       "      <td>NaN</td>\n",
       "      <td>NaN</td>\n",
       "    </tr>\n",
       "    <tr>\n",
       "      <td>c</td>\n",
       "      <td>5.0</td>\n",
       "      <td>12.0</td>\n",
       "      <td>-99.0</td>\n",
       "      <td>test</td>\n",
       "    </tr>\n",
       "    <tr>\n",
       "      <td>e</td>\n",
       "      <td>9.0</td>\n",
       "      <td>-99.0</td>\n",
       "      <td>11.0</td>\n",
       "      <td>test</td>\n",
       "    </tr>\n",
       "    <tr>\n",
       "      <td>f</td>\n",
       "      <td>12.0</td>\n",
       "      <td>13.0</td>\n",
       "      <td>13.0</td>\n",
       "      <td>test</td>\n",
       "    </tr>\n",
       "    <tr>\n",
       "      <td>h</td>\n",
       "      <td>8.0</td>\n",
       "      <td>5.0</td>\n",
       "      <td>5.0</td>\n",
       "      <td>test</td>\n",
       "    </tr>\n",
       "  </tbody>\n",
       "</table>\n",
       "</div>"
      ],
      "text/plain": [
       "    one    two  three  four\n",
       "a   NaN -100.0   10.0  test\n",
       "b   NaN    NaN    NaN   NaN\n",
       "c   5.0   12.0  -99.0  test\n",
       "e   9.0  -99.0   11.0  test\n",
       "f  12.0   13.0   13.0  test\n",
       "h   8.0    5.0    5.0  test"
      ]
     },
     "execution_count": 89,
     "metadata": {},
     "output_type": "execute_result"
    }
   ],
   "source": [
    "df_change2.drop_duplicates()"
   ]
  },
  {
   "cell_type": "code",
   "execution_count": null,
   "metadata": {},
   "outputs": [],
   "source": []
  }
 ],
 "metadata": {
  "kernelspec": {
   "display_name": "Python 3",
   "language": "python",
   "name": "python3"
  },
  "language_info": {
   "codemirror_mode": {
    "name": "ipython",
    "version": 3
   },
   "file_extension": ".py",
   "mimetype": "text/x-python",
   "name": "python",
   "nbconvert_exporter": "python",
   "pygments_lexer": "ipython3",
   "version": "3.7.4"
  }
 },
 "nbformat": 4,
 "nbformat_minor": 2
}
